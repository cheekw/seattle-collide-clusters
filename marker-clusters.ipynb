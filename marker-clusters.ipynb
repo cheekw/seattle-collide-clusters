{
 "cells": [
  {
   "cell_type": "markdown",
   "metadata": {},
   "source": [
    "# Mapping the collisions"
   ]
  },
  {
   "cell_type": "code",
   "execution_count": 1,
   "metadata": {},
   "outputs": [],
   "source": [
    "import folium\n",
    "from folium.plugins import MarkerCluster\n",
    "from folium.plugins import FastMarkerCluster\n",
    "import pandas as pd\n",
    "import numpy as np\n",
    "import os"
   ]
  },
  {
   "cell_type": "code",
   "execution_count": 2,
   "metadata": {},
   "outputs": [],
   "source": [
    "filepath = \"data/\"\n",
    "df = pd.read_csv(filepath + \"Collisions.csv\")"
   ]
  },
  {
   "cell_type": "code",
   "execution_count": 3,
   "metadata": {},
   "outputs": [
    {
     "data": {
      "text/plain": [
       "index                   0\n",
       "X                       0\n",
       "Y                       0\n",
       "OBJECTID                0\n",
       "INCKEY                  0\n",
       "COLDETKEY               0\n",
       "REPORTNO                0\n",
       "STATUS                  0\n",
       "ADDRTYPE                0\n",
       "INTKEY             132761\n",
       "LOCATION                0\n",
       "EXCEPTRSNCODE      119270\n",
       "EXCEPTRSNDESC      191477\n",
       "SEVERITYCODE            1\n",
       "SEVERITYDESC            0\n",
       "COLLISIONTYPE       21130\n",
       "PERSONCOUNT             0\n",
       "PEDCOUNT                0\n",
       "PEDCYLCOUNT             0\n",
       "VEHCOUNT                0\n",
       "INJURIES                0\n",
       "SERIOUSINJURIES         0\n",
       "FATALITIES              0\n",
       "INCDATE                 0\n",
       "INCDTTM                 0\n",
       "JUNCTIONTYPE         7285\n",
       "SDOT_COLCODE            1\n",
       "SDOT_COLDESC            1\n",
       "INATTENTIONIND     170683\n",
       "UNDERINFL           21028\n",
       "WEATHER             21189\n",
       "ROADCOND            21138\n",
       "LIGHTCOND           21281\n",
       "PEDROWNOTGRNT      193162\n",
       "SDOTCOLNUM          73555\n",
       "SPEEDING           188930\n",
       "ST_COLCODE           8762\n",
       "ST_COLDESC          21130\n",
       "SEGLANEKEY              0\n",
       "CROSSWALKKEY            0\n",
       "HITPARKEDCAR            0\n",
       "dtype: int64"
      ]
     },
     "execution_count": 3,
     "metadata": {},
     "output_type": "execute_result"
    }
   ],
   "source": [
    "df = df.dropna(subset=['Y', 'X']).reset_index()\n",
    "df['INCDATE'] = pd.to_datetime(df.INCDATE)\n",
    "df.isna().sum()"
   ]
  },
  {
   "cell_type": "code",
   "execution_count": 4,
   "metadata": {},
   "outputs": [],
   "source": [
    "# neighborhoods = os.path.join('','seattle-neighborhoods.geojson')\n",
    "# neighborhoods"
   ]
  },
  {
   "cell_type": "code",
   "execution_count": 5,
   "metadata": {},
   "outputs": [
    {
     "name": "stdout",
     "output_type": "stream",
     "text": [
      "197974\n"
     ]
    }
   ],
   "source": [
    "locations = df[['Y', 'X']]\n",
    "location_list = locations.values.tolist()\n",
    "print(len(location_list))"
   ]
  },
  {
   "cell_type": "code",
   "execution_count": 6,
   "metadata": {},
   "outputs": [],
   "source": [
    "# marker clusters\n",
    "m = folium.Map(location=[47.608013, -122.335167], zoom_start=11)\n",
    "\n",
    "# marker_cluster = MarkerCluster().add_to(m)\n",
    "marker_cluster = FastMarkerCluster(data=location_list).add_to(m)\n",
    "folium.TileLayer('cartodbpositron').add_to(m)\n",
    "\n",
    "folium.LayerControl().add_to(m)\n",
    "\n",
    "for point in range(0, len(location_list)):\n",
    "    folium.Marker(location_list[point], popup=str(df.INCDATE[point].date())).add_to(marker_cluster)"
   ]
  },
  {
   "cell_type": "code",
   "execution_count": null,
   "metadata": {},
   "outputs": [],
   "source": [
    "m"
   ]
  },
  {
   "cell_type": "code",
   "execution_count": null,
   "metadata": {},
   "outputs": [],
   "source": [
    "import subprocess\n",
    "import webbrowser\n",
    "from http.server import BaseHTTPRequestHandler, HTTPServer\n",
    "\n",
    "\n",
    "PORT = 7000\n",
    "HOST = '127.0.0.1'\n",
    "SERVER_ADDRESS = '{host}:{port}'.format(host=HOST, port=PORT)\n",
    "FULL_SERVER_ADDRESS = 'http://' + SERVER_ADDRESS\n",
    "\n",
    "\n",
    "def TemproraryHttpServer(page_content_type, raw_data):\n",
    "    \"\"\"\n",
    "    A simpe, temprorary http web server on the pure Python 3.\n",
    "    It has features for processing pages with a XML or HTML content.\n",
    "    \"\"\"\n",
    "\n",
    "    class HTTPServerRequestHandler(BaseHTTPRequestHandler):\n",
    "        \"\"\"\n",
    "        An handler of request for the server, hosting XML-pages.\n",
    "        \"\"\"\n",
    "\n",
    "        def do_GET(self):\n",
    "            \"\"\"Handle GET requests\"\"\"\n",
    "\n",
    "            # response from page\n",
    "            self.send_response(200)\n",
    "\n",
    "            # set up headers for pages\n",
    "            content_type = 'text/{0}'.format(page_content_type)\n",
    "            self.send_header('Content-type', content_type)\n",
    "            self.end_headers()\n",
    "\n",
    "            # writing data on a page\n",
    "            self.wfile.write(bytes(raw_data, encoding='utf'))\n",
    "\n",
    "            return\n",
    "\n",
    "    if page_content_type not in ['html', 'xml']:\n",
    "        raise ValueError('This server can serve only HTML or XML pages.')\n",
    "\n",
    "    page_content_type = page_content_type\n",
    "\n",
    "    # kill a process, hosted on a localhost:PORT\n",
    "    subprocess.call(['fuser', '-k', '{0}/tcp'.format(PORT)])\n",
    "\n",
    "    # Started creating a temprorary http server.\n",
    "    httpd = HTTPServer((HOST, PORT), HTTPServerRequestHandler)\n",
    "\n",
    "    # run a temprorary http server\n",
    "    httpd.serve_forever()\n",
    "\n",
    "\n",
    "def run_html_server(html_data=None):\n",
    "\n",
    "    if html_data is None:\n",
    "        html_data = \"\"\"\n",
    "        <!DOCTYPE html>\n",
    "        <html>\n",
    "        <head>\n",
    "        <title>Page Title</title>\n",
    "        </head>\n",
    "        <body>\n",
    "        <h1>This is a Heading</h1>\n",
    "        <p>This is a paragraph.</p>\n",
    "        </body>\n",
    "        </html>\n",
    "        \"\"\"\n",
    "\n",
    "    # open in a browser URL and see a result\n",
    "    webbrowser.open(FULL_SERVER_ADDRESS)\n",
    "\n",
    "    # run server\n",
    "    TemproraryHttpServer('html', html_data)\n",
    "\n",
    "# ------------------------------------------------------------------------------------------------\n",
    "\n",
    "\n",
    "# now let's save the visualization into the temp file and render it\n",
    "from tempfile import NamedTemporaryFile\n",
    "tmp = NamedTemporaryFile()\n",
    "m.save(tmp.name)\n",
    "with open(tmp.name) as f:\n",
    "    folium_map_html = f.read()\n",
    "\n",
    "run_html_server(folium_map_html)"
   ]
  },
  {
   "cell_type": "code",
   "execution_count": null,
   "metadata": {},
   "outputs": [],
   "source": []
  }
 ],
 "metadata": {
  "kernelspec": {
   "display_name": "Python 3",
   "language": "python",
   "name": "python3"
  },
  "language_info": {
   "codemirror_mode": {
    "name": "ipython",
    "version": 3
   },
   "file_extension": ".py",
   "mimetype": "text/x-python",
   "name": "python",
   "nbconvert_exporter": "python",
   "pygments_lexer": "ipython3",
   "version": "3.7.1"
  }
 },
 "nbformat": 4,
 "nbformat_minor": 2
}
